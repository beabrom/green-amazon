{
  "cells": [
    {
      "cell_type": "markdown",
      "metadata": {
        "id": "E_TDAUT_houh"
      },
      "source": [
        "# Analysis of perceived harmfullness\n",
        "\n",
        "This notebook loads amazon web-scraped data and analyzes the correlation between perceived harmfulness of products and 'greenwashing' keywords from the products descriptions."
      ]
    },
    {
      "cell_type": "markdown",
      "metadata": {
        "id": "WybeiRH6houo"
      },
      "source": [
        "## Setup"
      ]
    },
    {
      "cell_type": "code",
      "execution_count": null,
      "metadata": {
        "id": "XATtDSYyhoup"
      },
      "outputs": [],
      "source": [
        "import pandas as pd\n",
        "import numpy as np"
      ]
    },
    {
      "cell_type": "markdown",
      "metadata": {
        "id": "Qtc-iDgghour"
      },
      "source": [
        "## Data preparation\n",
        "\n",
        "Load the dataset"
      ]
    },
    {
      "cell_type": "code",
      "execution_count": null,
      "metadata": {
        "id": "fDd52Ebehour"
      },
      "outputs": [],
      "source": [
        "# products = pd.read_csv('products1.csv.gz') # out keywords\n",
        "# products = pd.read_csv('products2.csv.gz') # extended keywords\n",
        "products = pd.read_csv('products.csv.gz') # both combined (duplicates removed), no website"
      ]
    },
    {
      "cell_type": "code",
      "execution_count": null,
      "metadata": {
        "id": "TP6jHFC9hous",
        "outputId": "fcf910b6-4f02-4bdb-8a95-c0a6a7d60511"
      },
      "outputs": [
        {
          "data": {
            "text/plain": [
              "array(['bleach+tablets', 'Kitchen+cleaner', 'Dishwasher+detergent',\n",
              "       'Window+spray', 'Fabric+softener', 'Laundry+sanitizer',\n",
              "       'Moisture+absorber', 'Disinfectant+spray', 'Kettle+descaler',\n",
              "       'Spot+remover', 'Glass+cleaner', 'Stain+eliminator',\n",
              "       'Machine+descaler', 'Dishwasher+pods', 'Odor+lifter',\n",
              "       'Bleach+pods', 'Window+cleaner', 'Detergent+tablets',\n",
              "       'Bathroom+cleaner', 'Soap+pods', 'Washing+powder', 'Stain+remover',\n",
              "       'Laundry+sheets', 'Disinfectant+wipes', 'Laundry+powder',\n",
              "       'Flashlight', 'Mouthwash', 'Contact+Lens+Solutions',\n",
              "       'Prescription+Medications', 'Fabric+Softener', 'Razor', 'Lotion',\n",
              "       'Deodorant', 'Sponges', 'Extension+Cords', 'Eye+Drops',\n",
              "       'Hydrogen+Peroxide', 'Allergy+Medications', 'Shampoo',\n",
              "       'Rubbing+Alcohol', 'Cough+Syrup', 'Antibiotic+Ointment',\n",
              "       'Light+Bulbs', 'Conditioner', 'Laundry+Detergent',\n",
              "       'Insect+Repellent', 'Vitamins', 'Paper+Towels', 'Bar+Soap',\n",
              "       'Toothpaste', 'Cotton+Swabs', 'Toothbrush', 'Face+Wash',\n",
              "       'Thermometer', 'First+Aid+Kit', 'Moisturizer',\n",
              "       'Disinfecting+Wipes', 'Dish+Soap', 'Toilet+Paper',\n",
              "       'Hand+Sanitizer', 'Facial+Tissues', 'Cleaning+Spray',\n",
              "       'Reading+Glasses', 'Hot+Cold+Packs', 'Nasal+Spray', 'Body+Wash',\n",
              "       'Sunscreen', 'Pain+Relievers', 'Acne+Treatment', 'Bandages',\n",
              "       'Shaving+Cream', 'Trash+Bags', 'Batteries', 'Floss'], dtype=object)"
            ]
          },
          "execution_count": 267,
          "metadata": {},
          "output_type": "execute_result"
        }
      ],
      "source": [
        "products[\"keyword\"].unique()"
      ]
    },
    {
      "cell_type": "markdown",
      "metadata": {
        "id": "dLHDkmWQhouu"
      },
      "source": [
        "Drop the whole website, which takes up a lot of memory\n",
        "\n",
        "This has already been done for the `products.csv.gz` dataset."
      ]
    },
    {
      "cell_type": "code",
      "execution_count": null,
      "metadata": {
        "id": "QOq70z8-houv"
      },
      "outputs": [],
      "source": [
        "# products = products.copy().drop(\"webpage\", axis = 1) "
      ]
    },
    {
      "cell_type": "markdown",
      "metadata": {
        "id": "J1Cs91gMhouw"
      },
      "source": [
        "Find missing values. There are some missing descriptions."
      ]
    },
    {
      "cell_type": "code",
      "execution_count": null,
      "metadata": {
        "id": "Kg5Fq1bIhouw",
        "outputId": "ab3c667e-7b20-440e-f2b8-3dc04740374c"
      },
      "outputs": [
        {
          "data": {
            "text/plain": [
              "keyword                False\n",
              "name                   False\n",
              "url                    False\n",
              "product_description     True\n",
              "dtype: bool"
            ]
          },
          "execution_count": 269,
          "metadata": {},
          "output_type": "execute_result"
        }
      ],
      "source": [
        "products.isna().any()"
      ]
    },
    {
      "cell_type": "markdown",
      "metadata": {
        "id": "l-MuUBRThoux"
      },
      "source": [
        "There are 129 of them."
      ]
    },
    {
      "cell_type": "code",
      "execution_count": null,
      "metadata": {
        "id": "1wSyiXf6houy",
        "outputId": "e951fe89-8cc1-4230-eecc-f9baf37ba279"
      },
      "outputs": [
        {
          "data": {
            "text/html": [
              "<div>\n",
              "<style scoped>\n",
              "    .dataframe tbody tr th:only-of-type {\n",
              "        vertical-align: middle;\n",
              "    }\n",
              "\n",
              "    .dataframe tbody tr th {\n",
              "        vertical-align: top;\n",
              "    }\n",
              "\n",
              "    .dataframe thead th {\n",
              "        text-align: right;\n",
              "    }\n",
              "</style>\n",
              "<table border=\"1\" class=\"dataframe\">\n",
              "  <thead>\n",
              "    <tr style=\"text-align: right;\">\n",
              "      <th></th>\n",
              "      <th>keyword</th>\n",
              "      <th>name</th>\n",
              "      <th>url</th>\n",
              "      <th>product_description</th>\n",
              "    </tr>\n",
              "  </thead>\n",
              "  <tbody>\n",
              "    <tr>\n",
              "      <th>770</th>\n",
              "      <td>Bleach+pods</td>\n",
              "      <td>Clorox Bleach Packs, Bleach Laundry Pods, Zero...</td>\n",
              "      <td>https://amazon.com/Clorox-Zero-Splash-Bleach-P...</td>\n",
              "      <td>NaN</td>\n",
              "    </tr>\n",
              "    <tr>\n",
              "      <th>771</th>\n",
              "      <td>Bleach+pods</td>\n",
              "      <td>Grab Green Bleach Alternative Pods, 60 Count, ...</td>\n",
              "      <td>https://amazon.com/Grab-Green-Alternative-Unsc...</td>\n",
              "      <td>NaN</td>\n",
              "    </tr>\n",
              "    <tr>\n",
              "      <th>772</th>\n",
              "      <td>Bleach+pods</td>\n",
              "      <td>GuardH Bleach Tablets - 40 count. Bleach for l...</td>\n",
              "      <td>https://amazon.com/GuardH-Bleach-Tablets-Multi...</td>\n",
              "      <td>NaN</td>\n",
              "    </tr>\n",
              "    <tr>\n",
              "      <th>773</th>\n",
              "      <td>Bleach+pods</td>\n",
              "      <td>Country Save Laundry Detergent Powder Natural-...</td>\n",
              "      <td>https://amazon.com/Country-Save-Detergent-Natu...</td>\n",
              "      <td>NaN</td>\n",
              "    </tr>\n",
              "    <tr>\n",
              "      <th>774</th>\n",
              "      <td>Bleach+pods</td>\n",
              "      <td>Dropps Laundry &amp; Household Oxi Booster Pods: U...</td>\n",
              "      <td>https://amazon.com/Dropps-Laundry-Household-Bo...</td>\n",
              "      <td>NaN</td>\n",
              "    </tr>\n",
              "    <tr>\n",
              "      <th>...</th>\n",
              "      <td>...</td>\n",
              "      <td>...</td>\n",
              "      <td>...</td>\n",
              "      <td>...</td>\n",
              "    </tr>\n",
              "    <tr>\n",
              "      <th>4090</th>\n",
              "      <td>Shaving+Cream</td>\n",
              "      <td>Musgo Real Shaving Cream - Classic Scent 3.4 O...</td>\n",
              "      <td>https://amazon.com/Musgo-Real-Shaving-Cream-Cl...</td>\n",
              "      <td>NaN</td>\n",
              "    </tr>\n",
              "    <tr>\n",
              "      <th>4092</th>\n",
              "      <td>Shaving+Cream</td>\n",
              "      <td>The Art of Shaving Unscented Shaving Cream for...</td>\n",
              "      <td>https://amazon.com/Art-Shaving-Cream-Unscented...</td>\n",
              "      <td>NaN</td>\n",
              "    </tr>\n",
              "    <tr>\n",
              "      <th>4095</th>\n",
              "      <td>Shaving+Cream</td>\n",
              "      <td>Proraso Shaving Soap</td>\n",
              "      <td>https://amazon.com/Proraso-Shaving-Soap-Moistu...</td>\n",
              "      <td>NaN</td>\n",
              "    </tr>\n",
              "    <tr>\n",
              "      <th>4099</th>\n",
              "      <td>Shaving+Cream</td>\n",
              "      <td>Proraso Shaving Cream for Men</td>\n",
              "      <td>https://amazon.com/Proraso-Shaving-Cream-Sensi...</td>\n",
              "      <td>NaN</td>\n",
              "    </tr>\n",
              "    <tr>\n",
              "      <th>4104</th>\n",
              "      <td>Shaving+Cream</td>\n",
              "      <td>The Art of Shaving Shaving Cream for Men - Sha...</td>\n",
              "      <td>https://amazon.com/Art-Shaving-Bourbon-Cream-F...</td>\n",
              "      <td>NaN</td>\n",
              "    </tr>\n",
              "  </tbody>\n",
              "</table>\n",
              "<p>301 rows × 4 columns</p>\n",
              "</div>"
            ],
            "text/plain": [
              "            keyword                                               name  \\\n",
              "770     Bleach+pods  Clorox Bleach Packs, Bleach Laundry Pods, Zero...   \n",
              "771     Bleach+pods  Grab Green Bleach Alternative Pods, 60 Count, ...   \n",
              "772     Bleach+pods  GuardH Bleach Tablets - 40 count. Bleach for l...   \n",
              "773     Bleach+pods  Country Save Laundry Detergent Powder Natural-...   \n",
              "774     Bleach+pods  Dropps Laundry & Household Oxi Booster Pods: U...   \n",
              "...             ...                                                ...   \n",
              "4090  Shaving+Cream  Musgo Real Shaving Cream - Classic Scent 3.4 O...   \n",
              "4092  Shaving+Cream  The Art of Shaving Unscented Shaving Cream for...   \n",
              "4095  Shaving+Cream                              Proraso Shaving Soap    \n",
              "4099  Shaving+Cream                     Proraso Shaving Cream for Men    \n",
              "4104  Shaving+Cream  The Art of Shaving Shaving Cream for Men - Sha...   \n",
              "\n",
              "                                                    url product_description  \n",
              "770   https://amazon.com/Clorox-Zero-Splash-Bleach-P...                 NaN  \n",
              "771   https://amazon.com/Grab-Green-Alternative-Unsc...                 NaN  \n",
              "772   https://amazon.com/GuardH-Bleach-Tablets-Multi...                 NaN  \n",
              "773   https://amazon.com/Country-Save-Detergent-Natu...                 NaN  \n",
              "774   https://amazon.com/Dropps-Laundry-Household-Bo...                 NaN  \n",
              "...                                                 ...                 ...  \n",
              "4090  https://amazon.com/Musgo-Real-Shaving-Cream-Cl...                 NaN  \n",
              "4092  https://amazon.com/Art-Shaving-Cream-Unscented...                 NaN  \n",
              "4095  https://amazon.com/Proraso-Shaving-Soap-Moistu...                 NaN  \n",
              "4099  https://amazon.com/Proraso-Shaving-Cream-Sensi...                 NaN  \n",
              "4104  https://amazon.com/Art-Shaving-Bourbon-Cream-F...                 NaN  \n",
              "\n",
              "[301 rows x 4 columns]"
            ]
          },
          "execution_count": 270,
          "metadata": {},
          "output_type": "execute_result"
        }
      ],
      "source": [
        "products[products.isna().any(axis=1)]"
      ]
    },
    {
      "cell_type": "markdown",
      "metadata": {
        "id": "SddY5AQuhouy"
      },
      "source": [
        "Drop them for now"
      ]
    },
    {
      "cell_type": "code",
      "execution_count": null,
      "metadata": {
        "id": "o5O9L2Jdhouy"
      },
      "outputs": [],
      "source": [
        "products = products[-products.isna().any(axis=1)]"
      ]
    },
    {
      "cell_type": "markdown",
      "metadata": {
        "id": "RrLlWNDehouz"
      },
      "source": [
        "## Ecological keywords in product descriptions"
      ]
    },
    {
      "cell_type": "markdown",
      "metadata": {
        "id": "a38G-wLBhouz"
      },
      "source": [
        "Convert all to small case, strip"
      ]
    },
    {
      "cell_type": "code",
      "execution_count": null,
      "metadata": {
        "id": "1rnzuf87hou0"
      },
      "outputs": [],
      "source": [
        "products[\"product_description\"] = products[\"product_description\"].copy().apply(lambda desc: desc.strip().lower())"
      ]
    },
    {
      "cell_type": "markdown",
      "metadata": {
        "id": "z-eRF9kYhou0"
      },
      "source": [
        "Have a look at one description"
      ]
    },
    {
      "cell_type": "code",
      "execution_count": null,
      "metadata": {
        "id": "UpshnKAdhou0",
        "outputId": "cfef9383-82fe-46ac-f805-7a6b52becfce"
      },
      "outputs": [
        {
          "data": {
            "text/plain": [
              "'about this item    seventh generation free & clear dishwasher detergent powder powers through stuck-on food    this powerful formula leaves dishes spot-free, streak-free and sparkling clean    0% fragrances, dyes or chlorine bleach    not tested on animals    works well even in hard water conditions'"
            ]
          },
          "execution_count": 273,
          "metadata": {},
          "output_type": "execute_result"
        }
      ],
      "source": [
        "products[\"product_description\"][128]"
      ]
    },
    {
      "cell_type": "markdown",
      "metadata": {
        "id": "dZ_cF4p-hou1"
      },
      "source": [
        "List of relevant green keywords"
      ]
    },
    {
      "cell_type": "code",
      "execution_count": null,
      "metadata": {
        "id": "bHTWvGPihou1"
      },
      "outputs": [],
      "source": [
        "green_keywords = [\n",
        "    'eco friendly', 'earth friendly', 'environmentally friendly',\n",
        "    'eco', 'bio',  'not tested on animals'\n",
        "    'reusable', 'green',\n",
        "    'free & gentle', 'free & clear', 'free and gentle', 'free and clear',\n",
        "    'safe', 'sensitive, gentle', 'probiotic', 'botanical', 'natural',\n",
        "    'plant based', 'plant-based', 'hypoallergenic', 'recycled', 'vegan', 'organic',\n",
        "    'alternative', 'compostable', 'bamboo', 'renewable', 'biodegradable',\n",
        "    'sustainable', 'eco', 'responsible', 'responsibility', 'certified',\n",
        "    'durable', 'no chemicals', 'non gmo', 'non-gmo', 'washable'\n",
        "]\n"
      ]
    },
    {
      "cell_type": "markdown",
      "metadata": {
        "id": "xxX1YCLkhou2"
      },
      "source": [
        "Count keywords"
      ]
    },
    {
      "cell_type": "code",
      "execution_count": null,
      "metadata": {
        "id": "0eauOFfDhou2"
      },
      "outputs": [],
      "source": [
        "def count_keywords(item, keywords):\n",
        "    counts = [item.count(keyword) for keyword in keywords]\n",
        "    return sum(counts)\n"
      ]
    },
    {
      "cell_type": "code",
      "execution_count": null,
      "metadata": {
        "id": "GO7u_HHBhou3"
      },
      "outputs": [],
      "source": [
        "import collections\n",
        "\n",
        "products[\"desc_green_count\"] = products[\"product_description\"].apply(lambda desc: count_keywords(desc, green_keywords))"
      ]
    },
    {
      "cell_type": "markdown",
      "metadata": {
        "id": "d4v43YBhhou3"
      },
      "source": [
        "Calculate the mean by a search keyword"
      ]
    },
    {
      "cell_type": "code",
      "execution_count": null,
      "metadata": {
        "id": "kxZ8Cl1thou3"
      },
      "outputs": [],
      "source": [
        "mean_green_desc = products.groupby(\"keyword\")[\"desc_green_count\"].mean()"
      ]
    },
    {
      "cell_type": "markdown",
      "metadata": {
        "id": "JeOBt6lehou3"
      },
      "source": [
        "Plot"
      ]
    },
    {
      "cell_type": "code",
      "execution_count": null,
      "metadata": {
        "id": "OCL5Br5Ohou4",
        "outputId": "55b5c6cd-f3ee-4792-d4f8-44dbe3447866"
      },
      "outputs": [
        {
          "data": {
            "image/png": "[encoded data removed]",
            "text/plain": [
              "<Figure size 640x480 with 1 Axes>"
            ]
          },
          "metadata": {},
          "output_type": "display_data"
        }
      ],
      "source": [
        "mean_green_desc_plot = pd.DataFrame(mean_green_desc.sort_values(ascending = False)).reset_index()\n",
        "\n",
        "by_school=sns.barplot(x ='keyword',y ='desc_green_count',data = mean_green_desc_plot,color=\"green\",ci=None)\n",
        "\n",
        "for item in by_school.get_xticklabels():\n",
        "    item.set_rotation(90)\n",
        "    item.set_size(7)\n",
        "\n",
        "plt.savefig('Plot.png', dpi=300, bbox_inches='tight')\n"
      ]
    },
    {
      "cell_type": "markdown",
      "metadata": {
        "id": "YBYWx_XThou4"
      },
      "source": [
        "## Word emberrings"
      ]
    },
    {
      "cell_type": "markdown",
      "metadata": {
        "id": "Q9V7U87thou4"
      },
      "source": [
        "### Prepare data\n",
        "\n",
        "Split two-word keywords in case there is more than one"
      ]
    },
    {
      "cell_type": "code",
      "execution_count": null,
      "metadata": {
        "id": "ShUzpciJhou5"
      },
      "outputs": [],
      "source": [
        "products[\"keyword1\"] = products[\"keyword\"].apply(lambda word: word.split('+', 1)[0].lower())\n",
        "products[\"keyword2\"] = products[\"keyword\"].apply(lambda word: word.split('+', 1)[0].lower())"
      ]
    },
    {
      "cell_type": "markdown",
      "metadata": {
        "id": "Rk504jldhou5"
      },
      "source": [
        "### Download model\n",
        "\n",
        "Prepare a list of unique keywords"
      ]
    },
    {
      "cell_type": "code",
      "execution_count": null,
      "metadata": {
        "id": "cuw896Xwhou5"
      },
      "outputs": [],
      "source": [
        "keywords = products[\"keyword1\"].append(products[\"keyword2\"]).unique()"
      ]
    },
    {
      "cell_type": "markdown",
      "metadata": {
        "id": "wnxV7kl-hou6"
      },
      "source": [
        "Prepare"
      ]
    },
    {
      "cell_type": "code",
      "execution_count": null,
      "metadata": {
        "id": "wE-z-Npphou6"
      },
      "outputs": [],
      "source": [
        "import gensim\n",
        "# import json\n",
        "import pandas as pd\n",
        "import gensim.downloader as api\n",
        "import matplotlib.pyplot as plt\n",
        "from numpy.linalg import norm"
      ]
    },
    {
      "cell_type": "markdown",
      "metadata": {
        "id": "8-oVb2kmhou6"
      },
      "source": [
        "Load the model"
      ]
    },
    {
      "cell_type": "code",
      "execution_count": null,
      "metadata": {
        "id": "fkP87SQPhou6"
      },
      "outputs": [],
      "source": [
        "## download a pre-trained model and load it into ram\n",
        "model = api.load(\"glove-wiki-gigaword-100\")"
      ]
    },
    {
      "cell_type": "code",
      "execution_count": null,
      "metadata": {
        "id": "UzMA7z2-hou7"
      },
      "outputs": [],
      "source": [
        "def cosine_similarity(vector1,vector2):\n",
        "    result = np.dot(vector1, vector2)/(norm(vector1)*norm(vector2))\n",
        "    return result"
      ]
    },
    {
      "cell_type": "code",
      "execution_count": null,
      "metadata": {
        "id": "-VJ0isb0hou7",
        "outputId": "934e4aed-1deb-4a37-ed93-7feaa3e1c86a"
      },
      "outputs": [
        {
          "data": {
            "text/plain": [
              "array([], shape=(100, 0), dtype=float64)"
            ]
          },
          "execution_count": 284,
          "metadata": {},
          "output_type": "execute_result"
        }
      ],
      "source": [
        "np.empty((100,0))"
      ]
    },
    {
      "cell_type": "markdown",
      "metadata": {
        "id": "sKDBCRP4hou7"
      },
      "source": [
        "### Create a vector between two opposites\n",
        "\n",
        "Generate lists of embeddings for groups of positive and negative words"
      ]
    },
    {
      "cell_type": "code",
      "execution_count": null,
      "metadata": {
        "id": "ivKp7s4Yhou8"
      },
      "outputs": [],
      "source": [
        "## let's define an axis\n",
        "w1 = \"ecological\"\n",
        "w2 = \"harmful\"\n",
        "axis = model.get_vector(w2) - model.get_vector(w1)\n",
        "\n",
        "positive_words = [\"ecology\", \"environment\", \"sustainable\", \"renewable\", \"nature\"]\n",
        "negative_words = [\"pollution\", \"emission\", \"chemical\", \"deforestation\", \"smog\"]\n",
        "\n",
        "positive_words_embeddings = []\n",
        "\n",
        "for word in positive_words:\n",
        "    positive_words_embeddings.append(model.get_vector(word))\n",
        "    # np.concatenate((, model.get_vector(word)))\n",
        "\n",
        "negative_words_embeddings = []\n",
        "\n",
        "for word in negative_words:\n",
        "    negative_words_embeddings.append(model.get_vector(word))\n",
        "\n",
        "positive_words_embeddings = np.array(positive_words_embeddings)\n",
        "negative_words_embeddings = np.array(negative_words_embeddings)\n"
      ]
    },
    {
      "cell_type": "markdown",
      "metadata": {
        "id": "Xv-YAH4ihou8"
      },
      "source": [
        "Create a vector"
      ]
    },
    {
      "cell_type": "code",
      "execution_count": null,
      "metadata": {
        "id": "G5rkJZ22hou8"
      },
      "outputs": [],
      "source": [
        "axis = negative_words_embeddings.mean(axis=0) - positive_words_embeddings.mean(axis=0)\n"
      ]
    },
    {
      "cell_type": "markdown",
      "metadata": {
        "id": "TzoXl2E9hou8"
      },
      "source": [
        "### Check position in vector space\n",
        "\n",
        "List 10 words closest to the two extremes of the axes"
      ]
    },
    {
      "cell_type": "code",
      "execution_count": null,
      "metadata": {
        "id": "6az1gY_thou9",
        "outputId": "1af0467d-571f-48ee-962c-b87a88d092c4"
      },
      "outputs": [
        {
          "data": {
            "text/plain": [
              "[('environment', 0.8834255933761597),\n",
              " ('sustainable', 0.848753809928894),\n",
              " ('development', 0.7633209824562073),\n",
              " ('ecological', 0.7618227601051331),\n",
              " ('environmental', 0.7481111288070679),\n",
              " ('ecology', 0.747917115688324),\n",
              " ('conservation', 0.7468903064727783),\n",
              " ('nature', 0.730949342250824),\n",
              " ('natural', 0.7257879972457886),\n",
              " ('biodiversity', 0.725212574005127)]"
            ]
          },
          "execution_count": 287,
          "metadata": {},
          "output_type": "execute_result"
        }
      ],
      "source": [
        "model.most_similar(positive=[positive_words_embeddings.mean(axis=0)], topn=10)"
      ]
    },
    {
      "cell_type": "code",
      "execution_count": null,
      "metadata": {
        "id": "kKZJcPDBhou9",
        "outputId": "5b4b7b1e-8f15-412d-efd5-06f2815ce1f7"
      },
      "outputs": [
        {
          "data": {
            "text/plain": [
              "[('pollution', 0.9005914926528931),\n",
              " ('emissions', 0.8254444599151611),\n",
              " ('dioxide', 0.7731346487998962),\n",
              " ('smog', 0.7709972858428955),\n",
              " ('carbon', 0.7695528268814087),\n",
              " ('emission', 0.746194064617157),\n",
              " ('greenhouse', 0.7460324168205261),\n",
              " ('pollutants', 0.7371047139167786),\n",
              " ('gases', 0.722122311592102),\n",
              " ('ozone', 0.6999489068984985)]"
            ]
          },
          "execution_count": 288,
          "metadata": {},
          "output_type": "execute_result"
        }
      ],
      "source": [
        "model.most_similar(positive=[negative_words_embeddings.mean(axis=0)], topn=10)"
      ]
    },
    {
      "cell_type": "markdown",
      "metadata": {
        "id": "ih4xjtqkhou9"
      },
      "source": [
        "### Project keywords\n",
        "\n",
        "For each word, get its position relative to the vector"
      ]
    },
    {
      "cell_type": "code",
      "execution_count": null,
      "metadata": {
        "id": "90ZA0Wibhou-"
      },
      "outputs": [],
      "source": [
        "## choose some words to project on it\n",
        "words = keywords\n",
        "projections = []\n",
        "for word in words:\n",
        "    wordvector = model.get_vector(word)\n",
        "    projections.append(cosine_similarity(wordvector,axis))"
      ]
    },
    {
      "cell_type": "markdown",
      "metadata": {
        "id": "lbkBRa7Xhou-"
      },
      "source": [
        "Plot the result, add labels for a few words"
      ]
    },
    {
      "cell_type": "code",
      "execution_count": null,
      "metadata": {
        "id": "ANeG5ZVfhou-",
        "outputId": "d0b9c354-fcb1-4122-facf-c1bcfe59db33"
      },
      "outputs": [
        {
          "data": {
            "image/png": "[encoded data removed]",
            "text/plain": [
              "<Figure size 1200x100 with 1 Axes>"
            ]
          },
          "metadata": {},
          "output_type": "display_data"
        },
        {
          "data": {
            "text/plain": [
              "<Figure size 640x480 with 0 Axes>"
            ]
          },
          "metadata": {},
          "output_type": "display_data"
        }
      ],
      "source": [
        "## plot the result\n",
        "fig = plt.figure(figsize=(12,1))\n",
        "ax = fig.add_subplot(1,1,1)\n",
        "ax.scatter(projections,y=np.zeros(len(projections)))\n",
        "for i in range(len(projections)):\n",
        "    if words[i] in [\"bleach\", \"fabric\", \"moisturizer\", \"deodorant\"]:\n",
        "        plt.text(projections[i]-0.01,0.01,words[i])\n",
        "ax.set_xlabel(f\"← {w1} × {w2} →\")\n",
        "ax.set_yticks([])\n",
        "plt.show()\n",
        "\n",
        "plt.savefig('Projection.png', dpi=300)"
      ]
    },
    {
      "cell_type": "markdown",
      "metadata": {
        "id": "88Yggg_Ihou_"
      },
      "source": [
        "### Create a dataframe from results\n",
        "\n",
        "Create a dictionary out of it"
      ]
    },
    {
      "cell_type": "code",
      "execution_count": null,
      "metadata": {
        "id": "-9-DteCthou_"
      },
      "outputs": [],
      "source": [
        "keywords_projections = dict(zip(keywords, projections))"
      ]
    },
    {
      "cell_type": "markdown",
      "metadata": {
        "id": "oMjVn-skhou_"
      },
      "source": [
        "Add it back to the original dataset"
      ]
    },
    {
      "cell_type": "code",
      "execution_count": null,
      "metadata": {
        "id": "hAxJo1TLhou_",
        "outputId": "0aa5a926-916c-4abe-a385-ca4b4ca0b444"
      },
      "outputs": [
        {
          "data": {
            "text/plain": [
              "{'bleach': 0.18269129,\n",
              " 'kitchen': -0.17648973,\n",
              " 'dishwasher': 0.040390026,\n",
              " 'window': -0.08415529,\n",
              " 'fabric': -0.1073504,\n",
              " 'laundry': -0.020215979,\n",
              " 'moisture': 0.16497886,\n",
              " 'disinfectant': 0.22512498,\n",
              " 'kettle': 0.010093902,\n",
              " 'spot': -0.052106146,\n",
              " 'glass': 0.072442845,\n",
              " 'stain': 0.1215781,\n",
              " 'machine': 0.034488656,\n",
              " 'odor': 0.27311346,\n",
              " 'detergent': 0.12791674,\n",
              " 'bathroom': -0.019817427,\n",
              " 'soap': 0.013865879,\n",
              " 'washing': 0.09492996,\n",
              " 'flashlight': 0.13304643,\n",
              " 'mouthwash': 0.21876492,\n",
              " 'contact': -0.07028686,\n",
              " 'prescription': 0.08751321,\n",
              " 'razor': 0.11169241,\n",
              " 'lotion': 0.09550172,\n",
              " 'deodorant': 0.13090566,\n",
              " 'sponges': -0.032149993,\n",
              " 'extension': -0.1517566,\n",
              " 'eye': 0.008585946,\n",
              " 'hydrogen': 0.17347816,\n",
              " 'allergy': 0.18052365,\n",
              " 'rubbing': 0.13179345,\n",
              " 'cough': 0.3156739,\n",
              " 'antibiotic': 0.16005474,\n",
              " 'light': 0.03893719,\n",
              " 'conditioner': 0.18681106,\n",
              " 'insect': 0.016078198,\n",
              " 'vitamins': 0.05060758,\n",
              " 'paper': -0.04610566,\n",
              " 'bar': 0.0026715558,\n",
              " 'toothpaste': 0.2410744,\n",
              " 'cotton': 0.0735845,\n",
              " 'toothbrush': 0.09180973,\n",
              " 'face': -0.030464083,\n",
              " 'thermometer': 0.23000024,\n",
              " 'first': -0.11862117,\n",
              " 'moisturizer': 0.017245635,\n",
              " 'disinfecting': 0.16192564,\n",
              " 'dish': -0.18180534,\n",
              " 'toilet': -0.03572768,\n",
              " 'hand': -0.07323136,\n",
              " 'facial': 0.012623558,\n",
              " 'cleaning': 0.06098247,\n",
              " 'reading': -0.073951714,\n",
              " 'hot': 0.029093029,\n",
              " 'nasal': 0.22404191,\n",
              " 'body': -0.0964644,\n",
              " 'sunscreen': 0.1878244,\n",
              " 'pain': 0.07799299,\n",
              " 'acne': 0.20240116,\n",
              " 'bandages': 0.17146039,\n",
              " 'shaving': 0.10158101,\n",
              " 'trash': 0.1534238,\n",
              " 'batteries': 0.1358005,\n",
              " 'floss': 0.041695595}"
            ]
          },
          "execution_count": 292,
          "metadata": {},
          "output_type": "execute_result"
        }
      ],
      "source": [
        "keywords_projections"
      ]
    },
    {
      "cell_type": "code",
      "execution_count": null,
      "metadata": {
        "id": "KVGYLiy8hovA",
        "outputId": "343580cf-df54-45b5-ef41-ffa5a62ebe2f"
      },
      "outputs": [
        {
          "data": {
            "text/html": [
              "<div>\n",
              "<style scoped>\n",
              "    .dataframe tbody tr th:only-of-type {\n",
              "        vertical-align: middle;\n",
              "    }\n",
              "\n",
              "    .dataframe tbody tr th {\n",
              "        vertical-align: top;\n",
              "    }\n",
              "\n",
              "    .dataframe thead th {\n",
              "        text-align: right;\n",
              "    }\n",
              "</style>\n",
              "<table border=\"1\" class=\"dataframe\">\n",
              "  <thead>\n",
              "    <tr style=\"text-align: right;\">\n",
              "      <th></th>\n",
              "      <th>keyword</th>\n",
              "      <th>desc_green_count</th>\n",
              "      <th>keyword1</th>\n",
              "      <th>keyword2</th>\n",
              "    </tr>\n",
              "  </thead>\n",
              "  <tbody>\n",
              "    <tr>\n",
              "      <th>0</th>\n",
              "      <td>Acne+Treatment</td>\n",
              "      <td>2.166667</td>\n",
              "      <td>acne</td>\n",
              "      <td>acne</td>\n",
              "    </tr>\n",
              "    <tr>\n",
              "      <th>1</th>\n",
              "      <td>Allergy+Medications</td>\n",
              "      <td>1.291667</td>\n",
              "      <td>allergy</td>\n",
              "      <td>allergy</td>\n",
              "    </tr>\n",
              "    <tr>\n",
              "      <th>2</th>\n",
              "      <td>Antibiotic+Ointment</td>\n",
              "      <td>3.375000</td>\n",
              "      <td>antibiotic</td>\n",
              "      <td>antibiotic</td>\n",
              "    </tr>\n",
              "    <tr>\n",
              "      <th>3</th>\n",
              "      <td>Bandages</td>\n",
              "      <td>1.229730</td>\n",
              "      <td>bandages</td>\n",
              "      <td>bandages</td>\n",
              "    </tr>\n",
              "    <tr>\n",
              "      <th>4</th>\n",
              "      <td>Bar+Soap</td>\n",
              "      <td>3.788462</td>\n",
              "      <td>bar</td>\n",
              "      <td>bar</td>\n",
              "    </tr>\n",
              "    <tr>\n",
              "      <th>...</th>\n",
              "      <td>...</td>\n",
              "      <td>...</td>\n",
              "      <td>...</td>\n",
              "      <td>...</td>\n",
              "    </tr>\n",
              "    <tr>\n",
              "      <th>66</th>\n",
              "      <td>Vitamins</td>\n",
              "      <td>4.041667</td>\n",
              "      <td>vitamins</td>\n",
              "      <td>vitamins</td>\n",
              "    </tr>\n",
              "    <tr>\n",
              "      <th>67</th>\n",
              "      <td>Washing+powder</td>\n",
              "      <td>1.176471</td>\n",
              "      <td>washing</td>\n",
              "      <td>washing</td>\n",
              "    </tr>\n",
              "    <tr>\n",
              "      <th>68</th>\n",
              "      <td>Window+cleaner</td>\n",
              "      <td>1.642857</td>\n",
              "      <td>window</td>\n",
              "      <td>window</td>\n",
              "    </tr>\n",
              "    <tr>\n",
              "      <th>69</th>\n",
              "      <td>Window+spray</td>\n",
              "      <td>1.981481</td>\n",
              "      <td>window</td>\n",
              "      <td>window</td>\n",
              "    </tr>\n",
              "    <tr>\n",
              "      <th>70</th>\n",
              "      <td>bleach+tablets</td>\n",
              "      <td>2.458333</td>\n",
              "      <td>bleach</td>\n",
              "      <td>bleach</td>\n",
              "    </tr>\n",
              "  </tbody>\n",
              "</table>\n",
              "<p>71 rows × 4 columns</p>\n",
              "</div>"
            ],
            "text/plain": [
              "                keyword  desc_green_count    keyword1    keyword2\n",
              "0        Acne+Treatment          2.166667        acne        acne\n",
              "1   Allergy+Medications          1.291667     allergy     allergy\n",
              "2   Antibiotic+Ointment          3.375000  antibiotic  antibiotic\n",
              "3              Bandages          1.229730    bandages    bandages\n",
              "4              Bar+Soap          3.788462         bar         bar\n",
              "..                  ...               ...         ...         ...\n",
              "66             Vitamins          4.041667    vitamins    vitamins\n",
              "67       Washing+powder          1.176471     washing     washing\n",
              "68       Window+cleaner          1.642857      window      window\n",
              "69         Window+spray          1.981481      window      window\n",
              "70       bleach+tablets          2.458333      bleach      bleach\n",
              "\n",
              "[71 rows x 4 columns]"
            ]
          },
          "execution_count": 293,
          "metadata": {},
          "output_type": "execute_result"
        }
      ],
      "source": [
        "keyword_results = pd.DataFrame(mean_green_desc).reset_index()\n",
        "\n",
        "keyword_results[\"keyword1\"] = keyword_results[\"keyword\"].apply(lambda word: word.split('+', 1)[0].lower())\n",
        "keyword_results[\"keyword2\"] = keyword_results[\"keyword\"].apply(lambda word: word.split('+', 1)[0].lower())\n",
        "\n",
        "keyword_results"
      ]
    },
    {
      "cell_type": "code",
      "execution_count": null,
      "metadata": {
        "id": "ra8TgR1ohovA",
        "outputId": "8ea65ef6-8860-4c61-ce1c-01cf5585d73c"
      },
      "outputs": [
        {
          "data": {
            "text/plain": [
              "0           acne\n",
              "1        allergy\n",
              "2     antibiotic\n",
              "3       bandages\n",
              "4            bar\n",
              "         ...    \n",
              "66      vitamins\n",
              "67       washing\n",
              "68        window\n",
              "69        window\n",
              "70        bleach\n",
              "Length: 71, dtype: object"
            ]
          },
          "execution_count": 294,
          "metadata": {},
          "output_type": "execute_result"
        }
      ],
      "source": [
        "keyword_results.apply(lambda keyword: keyword['keyword1'], axis = 1)"
      ]
    },
    {
      "cell_type": "markdown",
      "metadata": {
        "id": "CtXLaN4xhovA"
      },
      "source": [
        "If there is more than one keyword, we take the maximum of the two"
      ]
    },
    {
      "cell_type": "code",
      "execution_count": null,
      "metadata": {
        "id": "DdqocjHIhovB"
      },
      "outputs": [],
      "source": [
        "keyword_results['perceived_harm'] = keyword_results.apply(lambda keyword:\n",
        "                      np.mean([keywords_projections[keyword['keyword1']], \n",
        "                       keywords_projections[keyword['keyword2']]]), axis = 1)"
      ]
    },
    {
      "cell_type": "code",
      "execution_count": null,
      "metadata": {
        "id": "qi_kMFgahovB",
        "outputId": "728636c8-d133-4670-ca84-7306ce544762"
      },
      "outputs": [
        {
          "data": {
            "text/html": [
              "<div>\n",
              "<style scoped>\n",
              "    .dataframe tbody tr th:only-of-type {\n",
              "        vertical-align: middle;\n",
              "    }\n",
              "\n",
              "    .dataframe tbody tr th {\n",
              "        vertical-align: top;\n",
              "    }\n",
              "\n",
              "    .dataframe thead th {\n",
              "        text-align: right;\n",
              "    }\n",
              "</style>\n",
              "<table border=\"1\" class=\"dataframe\">\n",
              "  <thead>\n",
              "    <tr style=\"text-align: right;\">\n",
              "      <th></th>\n",
              "      <th>keyword</th>\n",
              "      <th>desc_green_count</th>\n",
              "      <th>keyword1</th>\n",
              "      <th>keyword2</th>\n",
              "      <th>perceived_harm</th>\n",
              "    </tr>\n",
              "  </thead>\n",
              "  <tbody>\n",
              "    <tr>\n",
              "      <th>0</th>\n",
              "      <td>Acne+Treatment</td>\n",
              "      <td>2.166667</td>\n",
              "      <td>acne</td>\n",
              "      <td>acne</td>\n",
              "      <td>0.202401</td>\n",
              "    </tr>\n",
              "    <tr>\n",
              "      <th>1</th>\n",
              "      <td>Allergy+Medications</td>\n",
              "      <td>1.291667</td>\n",
              "      <td>allergy</td>\n",
              "      <td>allergy</td>\n",
              "      <td>0.180524</td>\n",
              "    </tr>\n",
              "    <tr>\n",
              "      <th>2</th>\n",
              "      <td>Antibiotic+Ointment</td>\n",
              "      <td>3.375000</td>\n",
              "      <td>antibiotic</td>\n",
              "      <td>antibiotic</td>\n",
              "      <td>0.160055</td>\n",
              "    </tr>\n",
              "    <tr>\n",
              "      <th>3</th>\n",
              "      <td>Bandages</td>\n",
              "      <td>1.229730</td>\n",
              "      <td>bandages</td>\n",
              "      <td>bandages</td>\n",
              "      <td>0.171460</td>\n",
              "    </tr>\n",
              "    <tr>\n",
              "      <th>4</th>\n",
              "      <td>Bar+Soap</td>\n",
              "      <td>3.788462</td>\n",
              "      <td>bar</td>\n",
              "      <td>bar</td>\n",
              "      <td>0.002672</td>\n",
              "    </tr>\n",
              "    <tr>\n",
              "      <th>...</th>\n",
              "      <td>...</td>\n",
              "      <td>...</td>\n",
              "      <td>...</td>\n",
              "      <td>...</td>\n",
              "      <td>...</td>\n",
              "    </tr>\n",
              "    <tr>\n",
              "      <th>66</th>\n",
              "      <td>Vitamins</td>\n",
              "      <td>4.041667</td>\n",
              "      <td>vitamins</td>\n",
              "      <td>vitamins</td>\n",
              "      <td>0.050608</td>\n",
              "    </tr>\n",
              "    <tr>\n",
              "      <th>67</th>\n",
              "      <td>Washing+powder</td>\n",
              "      <td>1.176471</td>\n",
              "      <td>washing</td>\n",
              "      <td>washing</td>\n",
              "      <td>0.094930</td>\n",
              "    </tr>\n",
              "    <tr>\n",
              "      <th>68</th>\n",
              "      <td>Window+cleaner</td>\n",
              "      <td>1.642857</td>\n",
              "      <td>window</td>\n",
              "      <td>window</td>\n",
              "      <td>-0.084155</td>\n",
              "    </tr>\n",
              "    <tr>\n",
              "      <th>69</th>\n",
              "      <td>Window+spray</td>\n",
              "      <td>1.981481</td>\n",
              "      <td>window</td>\n",
              "      <td>window</td>\n",
              "      <td>-0.084155</td>\n",
              "    </tr>\n",
              "    <tr>\n",
              "      <th>70</th>\n",
              "      <td>bleach+tablets</td>\n",
              "      <td>2.458333</td>\n",
              "      <td>bleach</td>\n",
              "      <td>bleach</td>\n",
              "      <td>0.182691</td>\n",
              "    </tr>\n",
              "  </tbody>\n",
              "</table>\n",
              "<p>71 rows × 5 columns</p>\n",
              "</div>"
            ],
            "text/plain": [
              "                keyword  desc_green_count    keyword1    keyword2  \\\n",
              "0        Acne+Treatment          2.166667        acne        acne   \n",
              "1   Allergy+Medications          1.291667     allergy     allergy   \n",
              "2   Antibiotic+Ointment          3.375000  antibiotic  antibiotic   \n",
              "3              Bandages          1.229730    bandages    bandages   \n",
              "4              Bar+Soap          3.788462         bar         bar   \n",
              "..                  ...               ...         ...         ...   \n",
              "66             Vitamins          4.041667    vitamins    vitamins   \n",
              "67       Washing+powder          1.176471     washing     washing   \n",
              "68       Window+cleaner          1.642857      window      window   \n",
              "69         Window+spray          1.981481      window      window   \n",
              "70       bleach+tablets          2.458333      bleach      bleach   \n",
              "\n",
              "    perceived_harm  \n",
              "0         0.202401  \n",
              "1         0.180524  \n",
              "2         0.160055  \n",
              "3         0.171460  \n",
              "4         0.002672  \n",
              "..             ...  \n",
              "66        0.050608  \n",
              "67        0.094930  \n",
              "68       -0.084155  \n",
              "69       -0.084155  \n",
              "70        0.182691  \n",
              "\n",
              "[71 rows x 5 columns]"
            ]
          },
          "execution_count": 296,
          "metadata": {},
          "output_type": "execute_result"
        }
      ],
      "source": [
        "keyword_results"
      ]
    },
    {
      "cell_type": "markdown",
      "metadata": {
        "id": "FzxTAq8BhovB"
      },
      "source": [
        "## Compare the two variables"
      ]
    },
    {
      "cell_type": "markdown",
      "metadata": {
        "id": "FfAo9u6JhovB"
      },
      "source": [
        "Plot the two variables: perceived harm (vector representation) and frequency of use of green words"
      ]
    },
    {
      "cell_type": "code",
      "execution_count": null,
      "metadata": {
        "id": "7zflQbKNhovC",
        "outputId": "0489021a-6ad1-410d-da9f-00c0e9dabbc2"
      },
      "outputs": [
        {
          "data": {
            "image/png": "[encoded data removed]",
            "text/plain": [
              "<Figure size 500x500 with 1 Axes>"
            ]
          },
          "metadata": {},
          "output_type": "display_data"
        }
      ],
      "source": [
        "import matplotlib.pyplot as plt\n",
        "import seaborn as sns \n",
        "\n",
        "sns.set(color_codes=True)\n",
        "np.random.seed(sum(map(ord, \"regression\")))\n",
        "sns.lmplot(x = 'perceived_harm', y = 'desc_green_count', data = keyword_results).set(\n",
        "    title='Description compensation \\n results',\n",
        "    xlabel='Perceived harm',\n",
        "    ylabel='Green decription occurance'\n",
        "    )\n",
        "\n",
        "plt.savefig('Results1.png', dpi=300, bbox_inches='tight')"
      ]
    },
    {
      "cell_type": "code",
      "execution_count": null,
      "metadata": {
        "id": "C3M5OTKthovC"
      },
      "outputs": [],
      "source": [
        "from random import seed\n",
        "from random import gauss\n",
        "\n",
        "seed(42)\n",
        "\n",
        "\n",
        "ideal_data = pd.DataFrame(\n",
        "    {'ideal_perceived_harm' : range(1, 100, 4)}\n",
        ")\n",
        "\n",
        "ideal_data['ideal_perceived_harm'] = ideal_data['ideal_perceived_harm'].apply(lambda x: x / 100 - 0.5).copy()\n",
        "\n",
        "ideal_data['ideal_perceived_harm'] = ideal_data['ideal_perceived_harm'].apply(lambda x: x + gauss(0, 1))\n",
        "\n",
        "ideal_data['ideal_desc_green'] = ideal_data['ideal_perceived_harm'].apply(lambda x: (x + gauss(0, 0.3) + 1) * 6).copy()\n",
        "\n",
        "\n",
        "\n",
        "# ideal_x = ideal_x / 100 - 0.5\n",
        "# ideal_y = ideal_x * 10"
      ]
    },
    {
      "cell_type": "markdown",
      "metadata": {
        "id": "Tu6q-Uf4hovD"
      },
      "source": [
        "Create an ideal graph for visualising during the in-class presentation"
      ]
    },
    {
      "cell_type": "code",
      "execution_count": null,
      "metadata": {
        "id": "AbGm8CbbhovD",
        "outputId": "c8db5edf-9ed2-47c4-dbb9-39d559c9c151"
      },
      "outputs": [
        {
          "data": {
            "image/png": "[encoded data removed]",
            "text/plain": [
              "<Figure size 500x500 with 1 Axes>"
            ]
          },
          "metadata": {},
          "output_type": "display_data"
        }
      ],
      "source": [
        "sns.set(color_codes=True)\n",
        "np.random.seed(sum(map(ord, \"regression\")))\n",
        "sns.lmplot(x = 'ideal_perceived_harm', y = 'ideal_desc_green', data = ideal_data).set(\n",
        "    title='Description compensation \\n ideal case',\n",
        "    xlabel='Perceived harm',\n",
        "    ylabel='Green decription occurance'\n",
        "    )\n",
        "\n",
        "plt.savefig('Ideal_case1.png', dpi=300, bbox_inches='tight')"
      ]
    }
  ],
  "metadata": {
    "colab": {
      "provenance": [],
      "toc_visible": true
    },
    "kernelspec": {
      "display_name": "Python 3",
      "language": "python",
      "name": "python3"
    },
    "language_info": {
      "codemirror_mode": {
        "name": "ipython",
        "version": 3
      },
      "file_extension": ".py",
      "mimetype": "text/x-python",
      "name": "python",
      "nbconvert_exporter": "python",
      "pygments_lexer": "ipython3",
      "version": "3.9.7"
    },
    "orig_nbformat": 4
  },
  "nbformat": 4,
  "nbformat_minor": 0
}